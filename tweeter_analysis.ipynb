{
 "cells": [
  {
   "cell_type": "code",
   "execution_count": 21,
   "metadata": {
    "collapsed": true
   },
   "outputs": [],
   "source": [
    "from textblob import TextBlob\n",
    "import tweepy\n",
    "import unicodedata\n",
    "import csv"
   ]
  },
  {
   "cell_type": "code",
   "execution_count": 22,
   "metadata": {
    "collapsed": true
   },
   "outputs": [],
   "source": [
    "customer_key = \"orj409Q8s3ZIUvGNmGPromWb2\"\n",
    "customer_secret = \"hDNxBHG8HltRxvpg7P0iPmXsRbQt457gzl1DEGqeaUmYIOtckB\""
   ]
  },
  {
   "cell_type": "code",
   "execution_count": 23,
   "metadata": {
    "collapsed": true
   },
   "outputs": [],
   "source": [
    "access_token = \"2323434428-fu5uRRVqgtyUKNlaBvWHbZzYEf5SrcgnOO65fN2\"\n",
    "access_token_secret = \"B4zeqxuikCduswc53hZjh6qyef0oiMQLcv9QMkbub58bo\""
   ]
  },
  {
   "cell_type": "code",
   "execution_count": 26,
   "metadata": {
    "collapsed": true
   },
   "outputs": [],
   "source": [
    "auth = tweepy.OAuthHandler(customer_key, customer_secret)\n",
    "auth.set_access_token(access_token, access_token_secret)"
   ]
  },
  {
   "cell_type": "code",
   "execution_count": 27,
   "metadata": {
    "collapsed": true
   },
   "outputs": [],
   "source": [
    "def get_label(analysis, threshold = 0):\n",
    "    if (analysis.sentiment.polarity > 0):\n",
    "        return \"positive\"\n",
    "    else:\n",
    "        return \"negative\""
   ]
  },
  {
   "cell_type": "code",
   "execution_count": 30,
   "metadata": {},
   "outputs": [],
   "source": [
    "api = tweepy.API(auth)\n",
    "\n",
    "#Step 3 - Retrieve Tweets\n",
    "public_tweets = api.search('Trump')\n",
    "\n",
    "\n",
    "\n",
    "#CHALLENGE - Instead of printing out each tweet, save each Tweet to a CSV file\n",
    "#and label each one as either 'positive' or 'negative', depending on the sentiment \n",
    "#You can decide the sentiment polarity threshold yourself\n",
    "\n",
    "with open(\"tweets_with_sentiment.csv\", \"wb\") as csvfile:\n",
    "    #csv_writer = csv.writer(csvfile)\n",
    "    \n",
    "    for tweet in public_tweets:\n",
    "        analysis = TextBlob(tweet.text)\n",
    "        csvfile.write('%s,%s\\n' % (tweet.text.encode('utf8'), get_label(analysis)))\n",
    "        \n",
    "\n"
   ]
  },
  {
   "cell_type": "code",
   "execution_count": 1,
   "metadata": {
    "collapsed": true
   },
   "outputs": [],
   "source": []
  },
  {
   "cell_type": "code",
   "execution_count": null,
   "metadata": {
    "collapsed": true
   },
   "outputs": [],
   "source": []
  }
 ],
 "metadata": {
  "kernelspec": {
   "display_name": "Python 2",
   "language": "python",
   "name": "python2"
  },
  "language_info": {
   "codemirror_mode": {
    "name": "ipython",
    "version": 2
   },
   "file_extension": ".py",
   "mimetype": "text/x-python",
   "name": "python",
   "nbconvert_exporter": "python",
   "pygments_lexer": "ipython2",
   "version": "2.7.14"
  }
 },
 "nbformat": 4,
 "nbformat_minor": 2
}
